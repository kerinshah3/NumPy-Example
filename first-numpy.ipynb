{
 "cells": [
  {
   "cell_type": "code",
   "execution_count": 1,
   "id": "f0799cd8a831e2ef",
   "metadata": {},
   "outputs": [],
   "source": [
    "import numpy as np\n",
    "import time as time"
   ]
  },
  {
   "cell_type": "markdown",
   "id": "976ff979",
   "metadata": {},
   "source": [
    "### NumPy Array\n",
    "## Creating 1d and 2d array using numpy"
   ]
  },
  {
   "cell_type": "code",
   "execution_count": null,
   "id": "774656cf",
   "metadata": {},
   "outputs": [],
   "source": [
    "array_1d = np.array([1,2,3,4])\n",
    "print(\"1D Array: \", array_1d)\n",
    "\n",
    "array_2d = np.array([[1,2,3,4],[5,6,7,8]])\n",
    "print(\"2D Array: \", array_2d)\n"
   ]
  },
  {
   "cell_type": "markdown",
   "id": "221a54c0",
   "metadata": {},
   "source": [
    "### NumPy Array Vs List\n"
   ]
  },
  {
   "cell_type": "code",
   "execution_count": null,
   "id": "9956858e",
   "metadata": {},
   "outputs": [],
   "source": [
    "py_list = [1,2,3,4]\n",
    "print(\"Python list multiplication: \", py_list * 2)\n",
    "\n",
    "num_array = np.array([1,2,3,4])\n",
    "print(\"Python array multiplication: \", num_array * 2)"
   ]
  },
  {
   "cell_type": "markdown",
   "id": "eb1305da",
   "metadata": {},
   "source": [
    "## NumPy Array Vs List time difference\n"
   ]
  },
  {
   "cell_type": "code",
   "execution_count": 2,
   "id": "ee1f016f",
   "metadata": {},
   "outputs": [
    {
     "name": "stdout",
     "output_type": "stream",
     "text": [
      "Python list operation time:  0.7033278942108154\n",
      "Python list operation time:  0.018496990203857422\n"
     ]
    }
   ],
   "source": [
    "start = time.time()\n",
    "\n",
    "py_list = [i*2 for i in range(10000000)] * 2\n",
    "# print(\"Python list multiplication: \", py_list * 2)\n",
    "print(\"Python list operation time: \", time.time() - start)\n",
    "\n",
    "\n",
    "start = time.time()\n",
    "\n",
    "num_array = np.arange(10000000) * 2\n",
    "# print(\"Python list multiplication: \", num_array * 2)\n",
    "print(\"Python list operation time: \", time.time() - start)\n",
    "\n"
   ]
  },
  {
   "cell_type": "markdown",
   "id": "c670c742",
   "metadata": {},
   "source": []
  }
 ],
 "metadata": {
  "kernelspec": {
   "display_name": ".venv",
   "language": "python",
   "name": "python3"
  },
  "language_info": {
   "codemirror_mode": {
    "name": "ipython",
    "version": 3
   },
   "file_extension": ".py",
   "mimetype": "text/x-python",
   "name": "python",
   "nbconvert_exporter": "python",
   "pygments_lexer": "ipython3",
   "version": "3.13.5"
  }
 },
 "nbformat": 4,
 "nbformat_minor": 5
}
