{
 "cells": [
  {
   "cell_type": "code",
   "execution_count": 1,
   "id": "f0799cd8a831e2ef",
   "metadata": {},
   "outputs": [],
   "source": [
    "import numpy as np\n",
    "import time as time"
   ]
  },
  {
   "cell_type": "markdown",
   "id": "976ff979",
   "metadata": {},
   "source": [
    "### NumPy Array\n",
    "## Creating 1d and 2d array using numpy"
   ]
  },
  {
   "cell_type": "code",
   "execution_count": 3,
   "id": "774656cf",
   "metadata": {},
   "outputs": [
    {
     "name": "stdout",
     "output_type": "stream",
     "text": [
      "1D Array:  [1 2 3 4]\n",
      "2D Array:  [[1 2 3 4]\n",
      " [5 6 7 8]]\n"
     ]
    }
   ],
   "source": [
    "array_1d = np.array([1,2,3,4])\n",
    "print(\"1D Array: \", array_1d)\n",
    "\n",
    "array_2d = np.array([[1,2,3,4],[5,6,7,8]])\n",
    "print(\"2D Array: \", array_2d)\n"
   ]
  },
  {
   "cell_type": "markdown",
   "id": "221a54c0",
   "metadata": {},
   "source": [
    "### NumPy Array Vs List\n"
   ]
  },
  {
   "cell_type": "code",
   "execution_count": 4,
   "id": "9956858e",
   "metadata": {},
   "outputs": [
    {
     "name": "stdout",
     "output_type": "stream",
     "text": [
      "Python list multiplication:  [1, 2, 3, 4, 1, 2, 3, 4]\n",
      "Python array multiplication:  [2 4 6 8]\n"
     ]
    }
   ],
   "source": [
    "py_list = [1,2,3,4]\n",
    "print(\"Python list multiplication: \", py_list * 2)\n",
    "\n",
    "num_array = np.array([1,2,3,4])\n",
    "print(\"Python array multiplication: \", num_array * 2)"
   ]
  },
  {
   "cell_type": "markdown",
   "id": "eb1305da",
   "metadata": {},
   "source": [
    "## NumPy Array Vs List time difference\n"
   ]
  },
  {
   "cell_type": "code",
   "execution_count": 5,
   "id": "ee1f016f",
   "metadata": {},
   "outputs": [
    {
     "name": "stdout",
     "output_type": "stream",
     "text": [
      "Python list operation time:  0.81076979637146\n",
      "Python list operation time:  0.03102731704711914\n"
     ]
    }
   ],
   "source": [
    "start = time.time()\n",
    "\n",
    "py_list = [i*2 for i in range(10000000)] * 2\n",
    "# print(\"Python list multiplication: \", py_list * 2)\n",
    "print(\"Python list operation time: \", time.time() - start)\n",
    "\n",
    "\n",
    "start = time.time()\n",
    "\n",
    "num_array = np.arange(10000000) * 2\n",
    "# print(\"Python list multiplication: \", num_array * 2)\n",
    "print(\"Python list operation time: \", time.time() - start)\n",
    "\n"
   ]
  },
  {
   "cell_type": "markdown",
   "id": "c670c742",
   "metadata": {},
   "source": [
    "## Creating array from scratch in numpy\n"
   ]
  },
  {
   "cell_type": "code",
   "execution_count": 6,
   "id": "d52491fa",
   "metadata": {},
   "outputs": [
    {
     "name": "stdout",
     "output_type": "stream",
     "text": [
      "numpy zeros \n",
      " [[0. 0. 0. 0.]\n",
      " [0. 0. 0. 0.]\n",
      " [0. 0. 0. 0.]]\n",
      "Ones: [[1. 1. 1.]\n",
      " [1. 1. 1.]]\n",
      "Full: [[7 7 7]\n",
      " [7 7 7]]\n",
      "Identity matrix (eye): [[1. 0. 0.]\n",
      " [0. 1. 0.]\n",
      " [0. 0. 1.]]\n",
      "Identity matrix (identity): [[1. 0. 0.]\n",
      " [0. 1. 0.]\n",
      " [0. 0. 1.]]\n"
     ]
    }
   ],
   "source": [
    "zeros = np.zeros((3,4))\n",
    "print(\"numpy zeros \\n\",zeros)\n",
    "arr5 = np.ones((2, 3))\n",
    "print(\"Ones:\", arr5)\n",
    "arr6 = np.full((2, 3), 7)\n",
    "print(\"Full:\", arr6)\n",
    "arr7 = np.eye(3)\n",
    "print(\"Identity matrix (eye):\", arr7)\n",
    "arr8 = np.identity(3)\n",
    "print(\"Identity matrix (identity):\", arr8)"
   ]
  },
  {
   "cell_type": "markdown",
   "id": "9506b195",
   "metadata": {},
   "source": [
    "### Vector , Matrix and Tensor\n"
   ]
  },
  {
   "cell_type": "code",
   "execution_count": 5,
   "id": "447a0977",
   "metadata": {},
   "outputs": [
    {
     "name": "stdout",
     "output_type": "stream",
     "text": [
      "Vectors:  [1 2 3 4]\n",
      "matrix:  [[1 2 3 4]\n",
      " [5 6 7 8]]\n",
      "tensor:  [[[1 2]\n",
      "  [3 4]]\n",
      "\n",
      " [[5 6]\n",
      "  [7 8]]]\n"
     ]
    }
   ],
   "source": [
    "vector = np.array([1,2,3,4])\n",
    "print(\"Vectors: \",vector)\n",
    "\n",
    "matrix = np.array([[1,2,3,4],[5,6,7,8]])\n",
    "print(\"matrix: \",matrix)\n",
    "\n",
    "tensor = np.array([[[1,2],[3,4]],\n",
    "                   [[5,6],[7,8]]])\n",
    "print(\"tensor: \",tensor)\n"
   ]
  },
  {
   "cell_type": "markdown",
   "id": "9d51c09d",
   "metadata": {},
   "source": [
    "### Numpy Array Properties\n"
   ]
  },
  {
   "cell_type": "code",
   "execution_count": null,
   "id": "fcb65c55",
   "metadata": {},
   "outputs": [
    {
     "name": "stdout",
     "output_type": "stream",
     "text": [
      "Size:  6\n",
      "Dim:  2\n",
      "Shape:  (2, 3)\n",
      "Data Type:  int64\n",
      "Data:  <memory at 0x10627c930>\n"
     ]
    }
   ],
   "source": [
    "numpy_array = np.array([[1,2,3],[4,1,4]])\n",
    "\n",
    "print(\"Size: \",numpy_array.size)\n",
    "print(\"Dim: \",numpy_array.ndim)\n",
    "print(\"Shape: \", numpy_array.shape)\n",
    "print(\"Data Type: \",numpy_array.dtype)\n",
    "print(\"Data: \", numpy_array.data)\n"
   ]
  },
  {
   "cell_type": "markdown",
   "id": "0cfd6874",
   "metadata": {},
   "source": [
    "### Reshaping , Flatten , Ravel and Transpose"
   ]
  },
  {
   "cell_type": "code",
   "execution_count": 8,
   "id": "d646132f",
   "metadata": {},
   "outputs": [
    {
     "name": "stdout",
     "output_type": "stream",
     "text": [
      "Reshaped:  [[1 2]\n",
      " [3 4]\n",
      " [1 4]]\n",
      "Flattened:  [1 2 3 4 1 4]\n",
      "Raveled:  [1 2 3 4 1 4]\n",
      "Reshaped array Transposed:  [[1 3 1]\n",
      " [2 4 4]]\n",
      "Main array Transposed:  [[1 4]\n",
      " [2 1]\n",
      " [3 4]]\n"
     ]
    }
   ],
   "source": [
    "numpy_array = np.array([[1,2,3],[4,1,4]])\n",
    "\n",
    "reshape = numpy_array.reshape((3,2))\n",
    "print(\"Reshaped: \",reshape)\n",
    "\n",
    "flattened = reshape.flatten() # Created a Copy \n",
    "print(\"Flattened: \",flattened)\n",
    "\n",
    "raveled = numpy_array.ravel() # returns a view \n",
    "print(\"Raveled: \",raveled)\n",
    "\n",
    "transposed = reshape.transpose()\n",
    "print(\"Reshaped array Transposed: \",transposed)\n",
    "\n",
    "transposed = numpy_array.transpose()\n",
    "print(\"Main array Transposed: \",transposed)\n"
   ]
  }
 ],
 "metadata": {
  "kernelspec": {
   "display_name": ".venv",
   "language": "python",
   "name": "python3"
  },
  "language_info": {
   "codemirror_mode": {
    "name": "ipython",
    "version": 3
   },
   "file_extension": ".py",
   "mimetype": "text/x-python",
   "name": "python",
   "nbconvert_exporter": "python",
   "pygments_lexer": "ipython3",
   "version": "3.13.5"
  }
 },
 "nbformat": 4,
 "nbformat_minor": 5
}
