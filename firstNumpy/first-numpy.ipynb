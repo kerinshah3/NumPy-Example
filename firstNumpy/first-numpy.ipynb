{
 "cells": [
  {
   "cell_type": "code",
   "execution_count": 2,
   "id": "f0799cd8a831e2ef",
   "metadata": {},
   "outputs": [],
   "source": [
    "import numpy as np\n",
    "import time as time"
   ]
  },
  {
   "cell_type": "markdown",
   "id": "976ff979",
   "metadata": {},
   "source": [
    "### NumPy Array\n",
    "## Creating 1d and 2d array using numpy"
   ]
  },
  {
   "cell_type": "code",
   "execution_count": null,
   "id": "774656cf",
   "metadata": {},
   "outputs": [],
   "source": [
    "array_1d = np.array([1,2,3,4])\n",
    "print(\"1D Array: \", array_1d)\n",
    "\n",
    "array_2d = np.array([[1,2,3,4],[5,6,7,8]])\n",
    "print(\"2D Array: \", array_2d)\n"
   ]
  },
  {
   "cell_type": "markdown",
   "id": "221a54c0",
   "metadata": {},
   "source": [
    "### NumPy Array Vs List\n"
   ]
  },
  {
   "cell_type": "code",
   "execution_count": null,
   "id": "9956858e",
   "metadata": {},
   "outputs": [],
   "source": [
    "py_list = [1,2,3,4]\n",
    "print(\"Python list multiplication: \", py_list * 2)\n",
    "\n",
    "num_array = np.array([1,2,3,4])\n",
    "print(\"Python array multiplication: \", num_array * 2)"
   ]
  },
  {
   "cell_type": "markdown",
   "id": "eb1305da",
   "metadata": {},
   "source": [
    "## NumPy Array Vs List time difference\n"
   ]
  },
  {
   "cell_type": "code",
   "execution_count": 2,
   "id": "ee1f016f",
   "metadata": {},
   "outputs": [
    {
     "name": "stdout",
     "output_type": "stream",
     "text": [
      "Python list operation time:  0.7033278942108154\n",
      "Python list operation time:  0.018496990203857422\n"
     ]
    }
   ],
   "source": [
    "start = time.time()\n",
    "\n",
    "py_list = [i*2 for i in range(10000000)] * 2\n",
    "# print(\"Python list multiplication: \", py_list * 2)\n",
    "print(\"Python list operation time: \", time.time() - start)\n",
    "\n",
    "\n",
    "start = time.time()\n",
    "\n",
    "num_array = np.arange(10000000) * 2\n",
    "# print(\"Python list multiplication: \", num_array * 2)\n",
    "print(\"Python list operation time: \", time.time() - start)\n",
    "\n"
   ]
  },
  {
   "cell_type": "markdown",
   "id": "c670c742",
   "metadata": {},
   "source": [
    "## Creating array from scratch in numpy\n"
   ]
  },
  {
   "cell_type": "code",
   "execution_count": 3,
   "id": "d52491fa",
   "metadata": {},
   "outputs": [
    {
     "name": "stdout",
     "output_type": "stream",
     "text": [
      "numpy zeros \n",
      " [[0. 0. 0. 0.]\n",
      " [0. 0. 0. 0.]\n",
      " [0. 0. 0. 0.]]\n",
      "Ones: [[1. 1. 1.]\n",
      " [1. 1. 1.]]\n",
      "Full: [[7 7 7]\n",
      " [7 7 7]]\n",
      "Identity matrix (eye): [[1. 0. 0.]\n",
      " [0. 1. 0.]\n",
      " [0. 0. 1.]]\n",
      "Identity matrix (identity): [[1. 0. 0.]\n",
      " [0. 1. 0.]\n",
      " [0. 0. 1.]]\n"
     ]
    }
   ],
   "source": [
    "zeros = np.zeros((3,4))\n",
    "print(\"numpy zeros \\n\",zeros)\n",
    "arr5 = np.ones((2, 3))\n",
    "print(\"Ones:\", arr5)\n",
    "arr6 = np.full((2, 3), 7)\n",
    "print(\"Full:\", arr6)\n",
    "arr7 = np.eye(3)\n",
    "print(\"Identity matrix (eye):\", arr7)\n",
    "arr8 = np.identity(3)\n",
    "print(\"Identity matrix (identity):\", arr8)"
   ]
  },
  {
   "cell_type": "markdown",
   "id": "9506b195",
   "metadata": {},
   "source": [
    "### Vector , Matrix and Tensor\n"
   ]
  },
  {
   "cell_type": "code",
   "execution_count": 5,
   "id": "447a0977",
   "metadata": {},
   "outputs": [
    {
     "name": "stdout",
     "output_type": "stream",
     "text": [
      "Vectors:  [1 2 3 4]\n",
      "matrix:  [[1 2 3 4]\n",
      " [5 6 7 8]]\n",
      "tensor:  [[[1 2]\n",
      "  [3 4]]\n",
      "\n",
      " [[5 6]\n",
      "  [7 8]]]\n"
     ]
    }
   ],
   "source": [
    "vector = np.array([1,2,3,4])\n",
    "print(\"Vectors: \",vector)\n",
    "\n",
    "matrix = np.array([[1,2,3,4],[5,6,7,8]])\n",
    "print(\"matrix: \",matrix)\n",
    "\n",
    "tensor = np.array([[[1,2],[3,4]],\n",
    "                   [[5,6],[7,8]]])\n",
    "print(\"tensor: \",tensor)\n"
   ]
  }
 ],
 "metadata": {
  "kernelspec": {
   "display_name": ".venv",
   "language": "python",
   "name": "python3"
  },
  "language_info": {
   "codemirror_mode": {
    "name": "ipython",
    "version": 3
   },
   "file_extension": ".py",
   "mimetype": "text/x-python",
   "name": "python",
   "nbconvert_exporter": "python",
   "pygments_lexer": "ipython3",
   "version": "3.13.5"
  }
 },
 "nbformat": 4,
 "nbformat_minor": 5
}
