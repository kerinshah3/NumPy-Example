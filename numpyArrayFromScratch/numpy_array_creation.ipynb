{
 "cells": [
  {
   "cell_type": "code",
   "execution_count": 2,
   "id": "numpy-array-creation",
   "metadata": {},
   "outputs": [],
   "source": [
    "# NumPy Array Creation Methods - Examples\n",
    "import numpy as np"
   ]
  },
  {
   "cell_type": "code",
   "execution_count": 2,
   "id": "from-python-objects",
   "metadata": {},
   "outputs": [
    {
     "name": "stdout",
     "output_type": "stream",
     "text": [
      "From list: [1 2 3]\n",
      "From tuple: [4 5 6]\n",
      "From nested lists: [[1 2]\n",
      " [3 4]]\n"
     ]
    }
   ],
   "source": [
    "# 1. From Python Objects\n",
    "arr1 = np.array([1, 2, 3])\n",
    "print(\"From list:\", arr1)\n",
    "arr2 = np.array((4, 5, 6))\n",
    "print(\"From tuple:\", arr2)\n",
    "arr3 = np.array([[1, 2], [3, 4]])\n",
    "print(\"From nested lists:\", arr3)"
   ]
  },
  {
   "cell_type": "code",
   "execution_count": 3,
   "id": "builtin-creation",
   "metadata": {},
   "outputs": [
    {
     "name": "stdout",
     "output_type": "stream",
     "text": [
      "Zeros: [[0. 0. 0.]\n",
      " [0. 0. 0.]]\n",
      "Ones: [[1. 1. 1.]\n",
      " [1. 1. 1.]]\n",
      "Full: [[7 7 7]\n",
      " [7 7 7]]\n",
      "Identity matrix (eye): [[1. 0. 0.]\n",
      " [0. 1. 0.]\n",
      " [0. 0. 1.]]\n",
      "Identity matrix (identity): [[1. 0. 0.]\n",
      " [0. 1. 0.]\n",
      " [0. 0. 1.]]\n",
      "Diagonal matrix: [[10  0  0]\n",
      " [ 0 20  0]\n",
      " [ 0  0 30]]\n"
     ]
    }
   ],
   "source": [
    "# 2. Built-in Creation Functions\n",
    "arr4 = np.zeros((2, 3))\n",
    "print(\"Zeros:\", arr4)\n",
    "arr5 = np.ones((2, 3))\n",
    "print(\"Ones:\", arr5)\n",
    "arr6 = np.full((2, 3), 7)\n",
    "print(\"Full:\", arr6)\n",
    "arr7 = np.eye(3)\n",
    "print(\"Identity matrix (eye):\", arr7)\n",
    "arr8 = np.identity(3)\n",
    "print(\"Identity matrix (identity):\", arr8)\n",
    "arr9 = np.diag([10, 20, 30])\n",
    "print(\"Diagonal matrix:\", arr9)"
   ]
  },
  {
   "cell_type": "code",
   "execution_count": 3,
   "id": "range-sequence",
   "metadata": {},
   "outputs": [
    {
     "name": "stdout",
     "output_type": "stream",
     "text": [
      "Arange: [0 2 4 6 8]\n",
      "Linspace: [0.   0.25 0.5  0.75 1.  ]\n",
      "Logspace: [  10.           46.41588834  215.443469   1000.        ]\n"
     ]
    }
   ],
   "source": [
    "# 3. Ranges and Sequences\n",
    "arr10 = np.arange(0, 10, 2)\n",
    "print(\"Arange:\", arr10)\n",
    "arr11 = np.linspace(0, 1, 5)\n",
    "print(\"Linspace:\", arr11)\n",
    "arr12 = np.logspace(1, 3, 4)\n",
    "print(\"Logspace:\", arr12)"
   ]
  },
  {
   "cell_type": "code",
   "execution_count": 4,
   "id": "random-arrays",
   "metadata": {},
   "outputs": [
    {
     "name": "stdout",
     "output_type": "stream",
     "text": [
      "Random uniform (0–1): [[0.93085896 0.21260188 0.04264785]\n",
      " [0.84917742 0.59207201 0.73568711]]\n",
      "Random normal distribution: [[-1.82591498  1.26756909  0.55493111]\n",
      " [ 1.5410602  -0.98187967 -0.54524288]]\n",
      "Random integers: [[6 1 9]\n",
      " [4 4 6]]\n",
      "Random normal with mean 5, std 2: [[7.45344044 9.81002116 7.88750874]\n",
      " [7.10229442 6.39469101 8.24117346]]\n"
     ]
    }
   ],
   "source": [
    "# 4. Random Arrays\n",
    "arr13 = np.random.rand(2, 3)\n",
    "print(\"Random uniform (0–1):\", arr13)\n",
    "arr14 = np.random.randn(2, 3)\n",
    "print(\"Random normal distribution:\", arr14)\n",
    "arr15 = np.random.randint(0, 10, (2, 3))\n",
    "print(\"Random integers:\", arr15)\n",
    "arr16 = np.random.normal(loc=5.0, scale=2.0, size=(2, 3))\n",
    "print(\"Random normal with mean 5, std 2:\", arr16)"
   ]
  },
  {
   "cell_type": "code",
   "execution_count": 5,
   "id": "empty-array",
   "metadata": {},
   "outputs": [
    {
     "name": "stdout",
     "output_type": "stream",
     "text": [
      "Empty array (junk values): [[7.45344044 9.81002116 7.88750874]\n",
      " [7.10229442 6.39469101 8.24117346]]\n"
     ]
    }
   ],
   "source": [
    "# 5. Empty or Uninitialized Arrays\n",
    "arr17 = np.empty((2, 3))\n",
    "print(\"Empty array (junk values):\", arr17)"
   ]
  },
  {
   "cell_type": "code",
   "execution_count": 6,
   "id": "structured-patterns",
   "metadata": {},
   "outputs": [
    {
     "name": "stdout",
     "output_type": "stream",
     "text": [
      "Tile pattern: [[1 2 1 2 1 2]\n",
      " [1 2 1 2 1 2]]\n",
      "Repeat elements: [1 1 1 2 2 2]\n",
      "Meshgrid X: [[1 2 3]\n",
      " [1 2 3]]\n",
      "Meshgrid Y: [[4 4 4]\n",
      " [5 5 5]]\n"
     ]
    }
   ],
   "source": [
    "# 6. Structured or Special Patterns\n",
    "arr18 = np.tile([1, 2], (2, 3))\n",
    "print(\"Tile pattern:\", arr18)\n",
    "arr19 = np.repeat([1, 2], 3)\n",
    "print(\"Repeat elements:\", arr19)\n",
    "x = np.array([1, 2, 3])\n",
    "y = np.array([4, 5])\n",
    "X, Y = np.meshgrid(x, y)\n",
    "print(\"Meshgrid X:\", X)\n",
    "print(\"Meshgrid Y:\", Y)"
   ]
  },
  {
   "cell_type": "code",
   "execution_count": 7,
   "id": "existing-arrays",
   "metadata": {},
   "outputs": [
    {
     "name": "stdout",
     "output_type": "stream",
     "text": [
      "Copy of array: [1 2 3 4 5 6]\n",
      "Reshaped array: [[1 2 3]\n",
      " [4 5 6]]\n",
      "Changed data type: [1. 2. 3. 4. 5. 6.]\n"
     ]
    }
   ],
   "source": [
    "# 7. From Existing Arrays (Copy, Reshape, Cast)\n",
    "a = np.array([1, 2, 3, 4, 5, 6])\n",
    "arr20 = np.copy(a)\n",
    "print(\"Copy of array:\", arr20)\n",
    "arr21 = a.reshape((2, 3))\n",
    "print(\"Reshaped array:\", arr21)\n",
    "arr22 = a.astype(np.float32)\n",
    "print(\"Changed data type:\", arr22)"
   ]
  }
 ],
 "metadata": {
  "kernelspec": {
   "display_name": ".venv",
   "language": "python",
   "name": "python3"
  },
  "language_info": {
   "codemirror_mode": {
    "name": "ipython",
    "version": 3
   },
   "file_extension": ".py",
   "mimetype": "text/x-python",
   "name": "python",
   "nbconvert_exporter": "python",
   "pygments_lexer": "ipython3",
   "version": "3.13.5"
  }
 },
 "nbformat": 4,
 "nbformat_minor": 5
}
