{
 "cells": [
  {
   "cell_type": "code",
   "execution_count": 1,
   "id": "fad7ab7a",
   "metadata": {},
   "outputs": [],
   "source": [
    "import numpy as np"
   ]
  },
  {
   "cell_type": "markdown",
   "id": "403db29c",
   "metadata": {},
   "source": [
    "## NumPy second phase\n",
    "\n",
    "### 1D Array Indexing and Slicing"
   ]
  },
  {
   "cell_type": "code",
   "execution_count": 2,
   "id": "851430d3",
   "metadata": {},
   "outputs": [
    {
     "name": "stdout",
     "output_type": "stream",
     "text": [
      "One dementional array [0 1 2 3 4 5 6 7 8 9]\n",
      "Basic Slicing in One dementional array [4 5 6 7 8]\n",
      "Basic Slicing with steps in OneD array [2 4 6 8]\n",
      "Basic Slicing with negative in OneD array [2 3 4 5 6 7]\n",
      "Basic Slicing with negative in OneD array 8\n"
     ]
    }
   ],
   "source": [
    "oneD = np.array(range(10))\n",
    "\n",
    "print(\"One dementional array\",oneD)\n",
    "print(\"Basic Slicing in One dementional array\",oneD[4:9])\n",
    "print(\"Basic Slicing with steps in OneD array\",oneD[2:9:2])\n",
    "print(\"Basic Slicing with negative in OneD array\",oneD[2:-2])\n",
    "print(\"Basic Slicing with negative in OneD array\",oneD[-2])\n"
   ]
  },
  {
   "cell_type": "markdown",
   "id": "d616e266",
   "metadata": {},
   "source": [
    "### 2D Array Indexing and Slicing"
   ]
  },
  {
   "cell_type": "code",
   "execution_count": null,
   "id": "acc5a3c3",
   "metadata": {},
   "outputs": [
    {
     "name": "stdout",
     "output_type": "stream",
     "text": [
      "Two dementional array [[ 1  2  3  4]\n",
      " [ 3  5  6  7]\n",
      " [ 8  9 10 11]]\n",
      "TwoD array specific value 7\n",
      "TwoD array entire row  [ 8  9 10 11]\n",
      "TwoD array entire colomn  [2 5 9]\n",
      "TwoD array slicing:  [6 7]\n",
      "TwoD array slicing:  [[ 2  3]\n",
      " [ 5  6]\n",
      " [ 9 10]]\n"
     ]
    }
   ],
   "source": [
    "twoD = np.array([[1,2,3,4],\n",
    "                 [3,5,6,7],\n",
    "                 [8,9,10,11]])\n",
    "\n",
    "print(\"Two dementional array\",twoD)\n",
    "print(\"TwoD array specific value\",twoD[1,3])\n",
    "print(\"TwoD array entire row \",twoD[2])\n",
    "print(\"TwoD array entire colomn \",twoD[:,1])\n",
    "print(\"TwoD array slicing: \", twoD[1, 2:4])\n",
    "\n",
    "# Get columns 1 and 2 from all rows\n",
    "print(\"TwoD array slicing: \",twoD[:, 1:3])\n"
   ]
  },
  {
   "cell_type": "markdown",
   "id": "9fed29e9",
   "metadata": {},
   "source": [
    "### Sorting"
   ]
  },
  {
   "cell_type": "code",
   "execution_count": 10,
   "id": "9eb026ee",
   "metadata": {},
   "outputs": [
    {
     "name": "stdout",
     "output_type": "stream",
     "text": [
      "OneD Sorting:  [  9  30 100 102 103 203 212 304]\n",
      "TwoD Sorting normal: [[  235  1112  6433 43244]\n",
      " [  347   353  2426  5432]\n",
      " [   90   101   112   800]]\n",
      "TwoD Sorting with Row:  [[  235  1112  6433 43244]\n",
      " [  347   353  2426  5432]\n",
      " [   90   101   112   800]]\n",
      "TwoD Sorting with Colomn:  [[  353    90   101   112]\n",
      " [  800   235  2426   347]\n",
      " [ 1112  5432  6433 43244]]\n"
     ]
    }
   ],
   "source": [
    "oneD = np.array([100,212,203,102,9,30,304,103])\n",
    "\n",
    "print(\"OneD Sorting: \",np.sort(oneD))\n",
    "\n",
    "twoD = np.array([[1112,235,6433,43244],\n",
    "                 [353,5432,2426,347],\n",
    "                 [800,90,101,112]])\n",
    "\n",
    "print(\"TwoD Sorting normal:\",np.sort(twoD))\n",
    "\n",
    "print(\"TwoD Sorting with Row: \",np.sort(twoD, axis=1))\n",
    "\n",
    "print(\"TwoD Sorting with Colomn: \",np.sort(twoD, axis=0))\n"
   ]
  },
  {
   "cell_type": "markdown",
   "id": "d9ce57e0",
   "metadata": {},
   "source": [
    "### Filter Simple way"
   ]
  },
  {
   "cell_type": "code",
   "execution_count": 12,
   "id": "05e1f333",
   "metadata": {},
   "outputs": [
    {
     "name": "stdout",
     "output_type": "stream",
     "text": [
      "[True, False, True, False, True, False, True, False, True, False, True, False, True, False, True, False, True, False, True, False, True, False, True, False, True, False, True, False, True, False, True, False, True, False, True, False, True, False, True, False, True, False, True, False, True, False, True, False, True, False, True, False, True, False, True, False, True, False, True, False, True, False, True, False, True, False, True, False, True, False, True, False, True, False, True, False, True, False, True, False, True, False, True, False, True, False, True, False, True, False, True, False, True, False, True, False, True, False, True, False]\n",
      "[ 0  2  4  6  8 10 12 14 16 18 20 22 24 26 28 30 32 34 36 38 40 42 44 46\n",
      " 48 50 52 54 56 58 60 62 64 66 68 70 72 74 76 78 80 82 84 86 88 90 92 94\n",
      " 96 98]\n"
     ]
    }
   ],
   "source": [
    "oneD = np.array(range(100))\n",
    "\n",
    "# Create an empty list\n",
    "filter_arr = []\n",
    "\n",
    "# go through each element in arr\n",
    "for element in oneD:\n",
    "  # if the element is completely divisble by 2, set the value to True, otherwise False\n",
    "  if element % 2 == 0:\n",
    "    filter_arr.append(True)\n",
    "  else:\n",
    "    filter_arr.append(False)\n",
    "\n",
    "newarr = oneD[filter_arr]\n",
    "\n",
    "print(filter_arr)\n",
    "print(newarr)\n"
   ]
  },
  {
   "cell_type": "markdown",
   "id": "bfb98373",
   "metadata": {},
   "source": [
    "## Filter Complex "
   ]
  },
  {
   "cell_type": "code",
   "execution_count": 13,
   "id": "79f88d3a",
   "metadata": {},
   "outputs": [
    {
     "name": "stdout",
     "output_type": "stream",
     "text": [
      "Filter even number:  [ 0  2  4  6  8 10 12 14 16 18 20 22 24 26 28 30 32 34 36 38 40 42 44 46\n",
      " 48 50 52 54 56 58 60 62 64 66 68 70 72 74 76 78 80 82 84 86 88 90 92 94\n",
      " 96 98]\n"
     ]
    }
   ],
   "source": [
    "oneD = np.array(range(100))\n",
    "\n",
    "evenNumber = oneD[oneD % 2 == 0]\n",
    "\n",
    "print(\"Filter even number: \",evenNumber)"
   ]
  }
 ],
 "metadata": {
  "kernelspec": {
   "display_name": ".venv",
   "language": "python",
   "name": "python3"
  },
  "language_info": {
   "codemirror_mode": {
    "name": "ipython",
    "version": 3
   },
   "file_extension": ".py",
   "mimetype": "text/x-python",
   "name": "python",
   "nbconvert_exporter": "python",
   "pygments_lexer": "ipython3",
   "version": "3.13.5"
  }
 },
 "nbformat": 4,
 "nbformat_minor": 5
}
