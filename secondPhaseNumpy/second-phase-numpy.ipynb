{
 "cells": [
  {
   "cell_type": "code",
   "execution_count": 1,
   "id": "fad7ab7a",
   "metadata": {},
   "outputs": [],
   "source": [
    "import numpy as np"
   ]
  },
  {
   "cell_type": "markdown",
   "id": "403db29c",
   "metadata": {},
   "source": [
    "## NumPy second phase\n",
    "\n",
    "### 1D Array Indexing and Slicing"
   ]
  },
  {
   "cell_type": "code",
   "execution_count": 9,
   "id": "851430d3",
   "metadata": {},
   "outputs": [
    {
     "name": "stdout",
     "output_type": "stream",
     "text": [
      "one dementional array [0 1 2 3 4 5 6 7 8 9]\n",
      "Basic Slicing in one dementional array [4 5 6 7 8]\n",
      "Basic Slicing with steps in oneD array [2 4 6 8]\n",
      "Basic Slicing with negative in oneD array [2 3 4 5 6 7]\n",
      "Basic Slicing with negative in oneD array 8\n"
     ]
    }
   ],
   "source": [
    "oneD = np.array(range(10))\n",
    "\n",
    "print(\"one dementional array\",oneD)\n",
    "print(\"Basic Slicing in one dementional array\",oneD[4:9])\n",
    "print(\"Basic Slicing with steps in oneD array\",oneD[2:9:2])\n",
    "print(\"Basic Slicing with negative in oneD array\",oneD[2:-2])\n",
    "print(\"Basic Slicing with negative in oneD array\",oneD[-2])\n"
   ]
  }
 ],
 "metadata": {
  "kernelspec": {
   "display_name": ".venv",
   "language": "python",
   "name": "python3"
  },
  "language_info": {
   "codemirror_mode": {
    "name": "ipython",
    "version": 3
   },
   "file_extension": ".py",
   "mimetype": "text/x-python",
   "name": "python",
   "nbconvert_exporter": "python",
   "pygments_lexer": "ipython3",
   "version": "3.13.5"
  }
 },
 "nbformat": 4,
 "nbformat_minor": 5
}
